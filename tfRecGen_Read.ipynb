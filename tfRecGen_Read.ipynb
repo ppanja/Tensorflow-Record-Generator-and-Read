{
 "cells": [
  {
   "cell_type": "code",
   "execution_count": 1,
   "metadata": {},
   "outputs": [],
   "source": [
    "import tensorflow as tf\n",
    "import os\n",
    "import matplotlib.image as mpimg"
   ]
  },
  {
   "cell_type": "code",
   "execution_count": 2,
   "metadata": {},
   "outputs": [],
   "source": [
    "import random"
   ]
  },
  {
   "cell_type": "code",
   "execution_count": 3,
   "metadata": {},
   "outputs": [
    {
     "name": "stdout",
     "output_type": "stream",
     "text": [
      "2.0.0\n"
     ]
    }
   ],
   "source": [
    "print(tf.__version__)"
   ]
  },
  {
   "cell_type": "code",
   "execution_count": 4,
   "metadata": {},
   "outputs": [
    {
     "name": "stdout",
     "output_type": "stream",
     "text": [
      "Determining list of input files and labels from C:\\Users\\Prasanta\\Pictures\\images\\chest_xray\\val.\n",
      "NORMAL2-IM-1427-0001 0\n",
      "WARNING:tensorflow:From <ipython-input-4-bda72809597c>:56: FastGFile.__init__ (from tensorflow.python.platform.gfile) is deprecated and will be removed in a future version.\n",
      "Instructions for updating:\n",
      "Use tf.gfile.GFile.\n",
      "NORMAL2-IM-1430-0001 0\n",
      "NORMAL2-IM-1431-0001 0\n",
      "NORMAL2-IM-1436-0001 0\n",
      "NORMAL2-IM-1437-0001 0\n",
      "NORMAL2-IM-1438-0001 0\n",
      "NORMAL2-IM-1440-0001 0\n",
      "NORMAL2-IM-1442-0001 0\n",
      "person1946_bacteria_4874 1\n",
      "person1946_bacteria_4875 1\n",
      "person1947_bacteria_4876 1\n",
      "person1949_bacteria_4880 1\n",
      "person1950_bacteria_4881 1\n",
      "person1951_bacteria_4882 1\n",
      "person1952_bacteria_4883 1\n",
      "person1954_bacteria_4886 1\n"
     ]
    }
   ],
   "source": [
    "class GenTFRecord:\n",
    "    def __init__(self, labels):\n",
    "        self.labels = labels\n",
    "        \n",
    "    def conv_img_folder(self, img_folder, tfrecord_file_name, labels_file_name):\n",
    "        print('Determining list of input files and labels from %s.' % img_folder)\n",
    "        unique_labels = [l.strip() for l in tf.io.gfile.GFile(labels_file_name, 'r').readlines()]\n",
    "        labels = []\n",
    "        filenames = []\n",
    "        texts = []\n",
    "        \n",
    "        # Leave label index 0 empty as a background class.\n",
    "        label_index = 1\n",
    "        \n",
    "        # Construct the list of JPEG files and labels.\n",
    "        for text in unique_labels:\n",
    "            jpeg_file_path = '%s/%s/*' % (img_folder, text)\n",
    "            matching_files = tf.compat.v1.gfile.Glob(jpeg_file_path)\n",
    "            #print(matching_files)\n",
    "            #img_folder1 = os.path.join(img_folder,text)\n",
    "            labels.extend([label_index] * len(matching_files))\n",
    "            texts.extend([text] * len(matching_files))\n",
    "            filenames.extend(matching_files)\n",
    "            #print(filenames)\n",
    "            if not label_index % 100:\n",
    "                print('Finished finding files in %d of %d classes.' % (label_index, len(labels)))\n",
    "                label_index += 1\n",
    "                \n",
    "\n",
    "        img_paths = [os.path.abspath(i) for i in filenames]\n",
    "        #print(img_paths)\n",
    "        with tf.io.TFRecordWriter(tfrecord_file_name) as writer:\n",
    "            for img_path in img_paths:\n",
    "                #img_folder1 = os.path.dirname(os.path.abspath(img_path))\n",
    "                example = self._convert_image(img_path)\n",
    "                writer.write(example.SerializeToString())            \n",
    "        #print(filenames)\n",
    "\n",
    "    def _is_png_image(self, filename):\n",
    "        ext = os.path.splitext(filename)[1].lower()\n",
    "        return ext == '.png'\n",
    "\n",
    "    def _convert_png_to_jpeg(self, img):\n",
    "        png_enc = tf.image.decode_png(img, channels = 3)\n",
    "        return tf.image.encode_jpeg(png_enc, format = 'rgb', quality = 100)\n",
    "\n",
    "    def _convert_image(self, img_path):\n",
    "        img_folder1 = os.path.dirname(os.path.abspath(img_path))\n",
    "        label = self._get_label_with_filename(img_folder1)\n",
    "        #label = labels[img_path]\n",
    "        img_shape = mpimg.imread(img_path).shape\n",
    "        filename = os.path.basename(img_path).split('.')[0]\n",
    "        print(filename,label)\n",
    "\n",
    "        # Read image data in terms of bytes\n",
    "        with tf.compat.v1.gfile.FastGFile(img_path, 'rb') as fid:\n",
    "            image_data = fid.read()\n",
    "\n",
    "            # Encode PNG data to JPEG data\n",
    "            if self._is_png_image(img_path):\n",
    "                image_data = self._convert_png_to_jpeg(image_data)\n",
    "\n",
    "        example = tf.train.Example(features = tf.train.Features(feature = {\n",
    "            'filename': tf.train.Feature(bytes_list = tf.train.BytesList(value = [filename.encode('utf-8')])),\n",
    "            'rows': tf.train.Feature(int64_list = tf.train.Int64List(value = [img_shape[0]])),\n",
    "            'cols': tf.train.Feature(int64_list = tf.train.Int64List(value = [img_shape[1]])),\n",
    "            'channels': tf.train.Feature(int64_list = tf.train.Int64List(value = [3])),\n",
    "            'image': tf.train.Feature(bytes_list = tf.train.BytesList(value = [image_data])),\n",
    "            'label': tf.train.Feature(int64_list = tf.train.Int64List(value = [label])),\n",
    "        }))\n",
    "        return example\n",
    "    \n",
    "    def _get_label_with_filename(self, filename):\n",
    "        basename = os.path.basename(os.path.normpath(filename))\n",
    "        return self.labels[basename]\n",
    "    \n",
    "if __name__ == '__main__':\n",
    "    labels = {'NORMAL': 0, 'PNEUMONIA': 1}\n",
    "    t = GenTFRecord(labels)\n",
    "    t.conv_img_folder('C:\\\\Users\\\\Prasanta\\\\Pictures\\\\images\\\\chest_xray\\\\val', 'C:\\\\Users\\\\Prasanta\\\\Pictures\\\\images\\\\chest_xray\\\\val\\\\images.tfrecord','C:\\\\Users\\\\Prasanta\\\\Pictures\\\\images\\\\chest_xray\\\\labels')"
   ]
  },
  {
   "cell_type": "code",
   "execution_count": 5,
   "metadata": {},
   "outputs": [
    {
     "name": "stdout",
     "output_type": "stream",
     "text": [
      "C:\\Users\\Prasanta\\Pictures\\images\\chest_xray\\val\\images.tfrecord\n"
     ]
    }
   ],
   "source": [
    "tfrecord_location = 'C:\\\\Users\\\\Prasanta\\\\Pictures\\\\images\\\\chest_xray\\\\val'\n",
    "name = \"images.tfrecord\"\n",
    "filename = os.path.join(tfrecord_location, name)\n",
    "print(filename)"
   ]
  },
  {
   "cell_type": "code",
   "execution_count": 6,
   "metadata": {},
   "outputs": [
    {
     "data": {
      "text/plain": [
       "tensorflow.python.data.ops.readers.TFRecordDatasetV2"
      ]
     },
     "execution_count": 6,
     "metadata": {},
     "output_type": "execute_result"
    }
   ],
   "source": [
    "dataset = tf.data.TFRecordDataset(filename)\n",
    "type(dataset)"
   ]
  },
  {
   "cell_type": "code",
   "execution_count": 7,
   "metadata": {},
   "outputs": [
    {
     "name": "stdout",
     "output_type": "stream",
     "text": [
      "Total Number of Images: 16\n"
     ]
    }
   ],
   "source": [
    "num_examples = 0\n",
    "\n",
    "for example in dataset:\n",
    "  num_examples += 1\n",
    "\n",
    "print('Total Number of Images: {}'.format(num_examples))"
   ]
  },
  {
   "cell_type": "code",
   "execution_count": 8,
   "metadata": {},
   "outputs": [],
   "source": [
    "def decode(tfrecord):\n",
    "  \"\"\"\n",
    "  Parses an image and label from the given `serialized_example`.\n",
    "  It is used as a map function for `dataset.map`\n",
    "  \"\"\"\n",
    "  IMAGE_SIZE = 224\n",
    "  #IMAGE_PIXELS = IMAGE_SIZE * IMAGE_SIZE\n",
    "\n",
    "        \n",
    "  \n",
    "  features={\n",
    "      'filename': tf.compat.v1.FixedLenFeature([], tf.string),\n",
    "      'rows': tf.compat.v1.FixedLenFeature([], tf.int64),\n",
    "      'cols': tf.compat.v1.FixedLenFeature([], tf.int64),\n",
    "      'channels': tf.compat.v1.FixedLenFeature([], tf.int64),\n",
    "      'image': tf.compat.v1.FixedLenFeature([], tf.string),\n",
    "      'label': tf.compat.v1.FixedLenFeature([], tf.int64),\n",
    "  }\n",
    "      \n",
    "\n",
    "  # Extract the data record\n",
    "  sample = tf.io.parse_single_example(tfrecord, features)\n",
    "\n",
    "  #image = tf.image.decode_image(sample['image'])     \n",
    "  image = tf.image.decode_jpeg(sample['image'], channels=3)\n",
    "  img_shape = tf.stack([sample['rows'], sample['cols'], sample['channels']])\n",
    "  label = tf.cast(sample['label'], tf.int32)\n",
    "  filename = sample['filename']\n",
    "  image = tf.image.resize(image, (IMAGE_SIZE, IMAGE_SIZE))/255.0\n",
    "\n",
    "  return image,label "
   ]
  },
  {
   "cell_type": "code",
   "execution_count": 9,
   "metadata": {},
   "outputs": [],
   "source": [
    "dataset = dataset.map(decode)"
   ]
  },
  {
   "cell_type": "code",
   "execution_count": 11,
   "metadata": {},
   "outputs": [
    {
     "name": "stdout",
     "output_type": "stream",
     "text": [
      "tf.Tensor(0, shape=(), dtype=int32)\n",
      "tf.Tensor(0, shape=(), dtype=int32)\n",
      "tf.Tensor(0, shape=(), dtype=int32)\n",
      "tf.Tensor(0, shape=(), dtype=int32)\n",
      "tf.Tensor(0, shape=(), dtype=int32)\n",
      "tf.Tensor(0, shape=(), dtype=int32)\n",
      "tf.Tensor(0, shape=(), dtype=int32)\n",
      "tf.Tensor(0, shape=(), dtype=int32)\n",
      "tf.Tensor(1, shape=(), dtype=int32)\n",
      "tf.Tensor(1, shape=(), dtype=int32)\n",
      "tf.Tensor(1, shape=(), dtype=int32)\n",
      "tf.Tensor(1, shape=(), dtype=int32)\n",
      "tf.Tensor(1, shape=(), dtype=int32)\n",
      "tf.Tensor(1, shape=(), dtype=int32)\n",
      "tf.Tensor(1, shape=(), dtype=int32)\n",
      "tf.Tensor(1, shape=(), dtype=int32)\n"
     ]
    }
   ],
   "source": [
    "for x, y in dataset:\n",
    "    print(y)"
   ]
  },
  {
   "cell_type": "code",
   "execution_count": 12,
   "metadata": {},
   "outputs": [
    {
     "data": {
      "text/plain": [
       "tensorflow.python.data.ops.dataset_ops.MapDataset"
      ]
     },
     "execution_count": 12,
     "metadata": {},
     "output_type": "execute_result"
    }
   ],
   "source": [
    "type(dataset)"
   ]
  },
  {
   "cell_type": "code",
   "execution_count": null,
   "metadata": {},
   "outputs": [],
   "source": []
  }
 ],
 "metadata": {
  "kernelspec": {
   "display_name": "Python 3",
   "language": "python",
   "name": "python3"
  },
  "language_info": {
   "codemirror_mode": {
    "name": "ipython",
    "version": 3
   },
   "file_extension": ".py",
   "mimetype": "text/x-python",
   "name": "python",
   "nbconvert_exporter": "python",
   "pygments_lexer": "ipython3",
   "version": "3.7.4"
  }
 },
 "nbformat": 4,
 "nbformat_minor": 4
}
